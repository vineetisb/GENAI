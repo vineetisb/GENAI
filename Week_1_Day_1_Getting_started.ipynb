{
  "nbformat": 4,
  "nbformat_minor": 0,
  "metadata": {
    "colab": {
      "provenance": [],
      "include_colab_link": true
    },
    "kernelspec": {
      "name": "python3",
      "display_name": "Python 3"
    },
    "language_info": {
      "name": "python"
    }
  },
  "cells": [
    {
      "cell_type": "markdown",
      "metadata": {
        "id": "view-in-github",
        "colab_type": "text"
      },
      "source": [
        "<a href=\"https://colab.research.google.com/github/vineetisb/GENAI/blob/main/Week_1_Day_1_Getting_started.ipynb\" target=\"_parent\"><img src=\"https://colab.research.google.com/assets/colab-badge.svg\" alt=\"Open In Colab\"/></a>"
      ]
    },
    {
      "cell_type": "markdown",
      "source": [
        "# Welcome to your first use of an LLM!\n",
        "\n",
        "If this is your first use of Google Colab, welcome to that, too! In later weeks we will explore this in more detail. For now, just follow the instructions and let me know any questions.\n",
        "\n",
        "First, press the `Connect` or `Reconnect` button near the top right of this window to start a new CPU box running in the Cloud.\n",
        "\n",
        "Next click in the \"cell\" immediately below this one, and press Shift+Enter to execute the cell. Ollama should be downloaded and installed. The exclamation mark at the start of the line indicates that this is a shell command, not python.\n",
        "\n"
      ],
      "metadata": {
        "id": "4MS9vPBDDkd6"
      }
    },
    {
      "cell_type": "code",
      "source": [
        "!curl -fsSL https://ollama.com/install.sh | sh"
      ],
      "metadata": {
        "id": "nZcqFHYODOBO",
        "outputId": "d2b25039-331d-42f6-8b4e-79742b56f518",
        "colab": {
          "base_uri": "https://localhost:8080/"
        }
      },
      "execution_count": 1,
      "outputs": [
        {
          "output_type": "stream",
          "name": "stdout",
          "text": [
            ">>> Installing ollama to /usr/local\n",
            ">>> Downloading Linux amd64 bundle\n",
            "############################################################################################# 100.0%\n",
            ">>> Creating ollama user...\n",
            ">>> Adding ollama user to video group...\n",
            ">>> Adding current user to ollama group...\n",
            ">>> Creating ollama systemd service...\n",
            "\u001b[1m\u001b[31mWARNING:\u001b[m systemd is not running\n",
            "\u001b[1m\u001b[31mWARNING:\u001b[m Unable to detect NVIDIA/AMD GPU. Install lspci or lshw to automatically detect and install GPU dependencies.\n",
            ">>> The Ollama API is now available at 127.0.0.1:11434.\n",
            ">>> Install complete. Run \"ollama\" from the command line.\n"
          ]
        }
      ]
    },
    {
      "cell_type": "markdown",
      "source": [
        "## When this completes..\n",
        "\n",
        "The cell above should now say: `Install complete. Run \"ollama\" from the command line.`\n",
        "\n",
        "Now click in the cell below and press Shift+Enter.\n"
      ],
      "metadata": {
        "id": "N3-RFec0EMwI"
      }
    },
    {
      "cell_type": "code",
      "source": [
        "# Start Ollama server\n",
        "\n",
        "import subprocess\n",
        "\n",
        "# Start the command in a background process\n",
        "process = subprocess.Popen([\"ollama\", \"serve\"])\n",
        "\n",
        "# The kernel can continue execution while the process runs in the background\n",
        "print(\"The 'ollama serve' process is running in the background.\")"
      ],
      "metadata": {
        "id": "_j3vwuDHDwxI"
      },
      "execution_count": null,
      "outputs": []
    },
    {
      "cell_type": "markdown",
      "source": [
        "# Great!\n",
        "\n",
        "It should now say above: `The 'ollama serve' process is running in the background`.\n",
        "\n",
        "Now press Shift+Enter in each of the cells below in turn to try out Ollama."
      ],
      "metadata": {
        "id": "jx6JAHmKEkOs"
      }
    },
    {
      "cell_type": "code",
      "source": [
        "# Download the model that we want to use - this might take a couple of mins\n",
        "# The exclamation mark at the start of the line indicates that this is a shell command, not python\n",
        "\n",
        "!ollama pull llama3.2:1b"
      ],
      "metadata": {
        "id": "r3VSOQYiGzco"
      },
      "execution_count": null,
      "outputs": []
    },
    {
      "cell_type": "code",
      "source": [
        "# install the Ollama python API package\n",
        "\n",
        "!pip install ollama"
      ],
      "metadata": {
        "id": "Gr4iQ6alDqdf"
      },
      "execution_count": null,
      "outputs": []
    },
    {
      "cell_type": "code",
      "source": [
        "# import the package\n",
        "\n",
        "import ollama"
      ],
      "metadata": {
        "id": "MZ7EoToiDqaq"
      },
      "execution_count": null,
      "outputs": []
    },
    {
      "cell_type": "code",
      "source": [
        "# Your first message to your very own LLM running \"locally\" (well, on your cloud box)\n",
        "\n",
        "message = \"Hi there! This is my first message to an LLM!\""
      ],
      "metadata": {
        "id": "ZA2T87uWCMKl"
      },
      "execution_count": null,
      "outputs": []
    },
    {
      "cell_type": "code",
      "source": [
        "# Put this message into the format expected by Ollama\n",
        "\n",
        "messages = [{\"role\": \"user\", \"content\": message}]"
      ],
      "metadata": {
        "id": "uIRqzV2jDLLJ"
      },
      "execution_count": null,
      "outputs": []
    },
    {
      "cell_type": "code",
      "source": [
        "# Let's do this!!\n",
        "\n",
        "response = ollama.chat(model=\"llama3.2:1b\", messages=messages)\n",
        "print(response['message']['content'])"
      ],
      "metadata": {
        "id": "Qehl86LOAuzQ"
      },
      "execution_count": null,
      "outputs": []
    },
    {
      "cell_type": "code",
      "source": [],
      "metadata": {
        "id": "c9GZvqvzFTmU"
      },
      "execution_count": null,
      "outputs": []
    }
  ]
}